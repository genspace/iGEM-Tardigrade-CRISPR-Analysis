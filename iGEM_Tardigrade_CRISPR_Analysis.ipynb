{
 "cells": [
  {
   "cell_type": "code",
   "execution_count": 49,
   "metadata": {
    "collapsed": false
   },
   "outputs": [],
   "source": [
    "import re\n",
    "import os\n",
    "import numpy as np\n",
    "import pandas as pd\n",
    "\n",
    "from IPython.display import display\n",
    "import matplotlib.pyplot as plt\n",
    "import matplotlib\n",
    "import seaborn as sns\n",
    "sns.set_context(\"notebook\", font_scale=1)\n",
    "matplotlib.style.use('ggplot')\n",
    "%matplotlib inline \n",
    "\n",
    "import warnings\n",
    "warnings.filterwarnings('ignore')"
   ]
  },
  {
   "cell_type": "code",
   "execution_count": 24,
   "metadata": {
    "collapsed": true
   },
   "outputs": [],
   "source": [
    "hdAct1 = 'AAAAGACATCTTTTCCAAATCAGTCAGTTCCAGCACCGACGCCACCCGGATTCCCCCGTCATCGCATCGCTGTTCGCTATTCATCCCTGCGCTATTTTTCACTTTAGTTTCGCGTAATCCCTCAGAACAGTCGCAATGGAAGACGAAGTTGCCGCCTTGGTCGTGGACAATGGATCCGGTATGTGCAAGGCCGGATTTGCCGGAGATGACGCTCCCCGCGCCGTCTTCCCCTCCATCGTTGGCCGACCCCGTCATCAGGGTGTCATGGTCGGTATGGGTCAAAAGGACAGCTACGTCGGTGATGAGGCCCAGAGCAAGCGCGGTATCCTGACGCTCAAGTACCCCATCGAGCACGGCATCGTCACCAACTGGGATGACATGGAGAAGATCTGGCATCACACCTTCTACAACGAGCTCCGCGTGGCTCCCGAGGAACACCCCGTCCTCCTGACTGAGGCTCCCCTCAACCCCAAGGCCAACAGGGAAAAGATGACCCAGATCATGTTCGAGACATTCAACACCCCCGCCATGTACGTCGCGATTCAGGCTGTGCTCTCCCTGTACGCGTCCGGTCGTACCACCGGTATCGTGCTGGACTCTGGTGATGGTGTCTCCCACACTGTCCCCATCTACGAAGGTTATGCTCTGCCTCACGCCATCCTCCGTCTGGATTTGGCCGGTCGCGACTTGACTGACTACTTGATGAAGATCCTGACTGAGCGCGGTACAGCTTCGTCACAACGCT'\n",
    "hdMag1 = 'CCCATTAGAGGGATTTCATCTATTTCAACTCTTGGGCATTTTCTCTGACGCTTAAATTTTTCCCAGACAATCTCGAAGGAAAACGAAAATGACGGAGGACCGTTTCTACGTGCGATACTACGTCGGCCATAAAGGCAAGTTCGGGCATGAATTTTTGGAATTCGAATTTCGCCCGGACGGTCGCCTGCGTTACGCCAACAATTCCAACTACAAGAACGACACGATGATCCGCAAGGAGGTGGTCGTCCATCCGGCTATCTTGGAAGAGGTGAAGCGCATCATTCAGGACAGTGAGATTCTCCGGGAGAACGACGCCAAGTGGCCGCAGCCGGACCGCGTGGGCCGGCAGGAGTTAGAGATTCTGCTGGACGACGAGCACATCTCCTTCAACACGGGAAAGATCGGCTCGCTGATGGACGTCAACAACAGCCCCGATCCAGAAGGTCTGCGTTGCTTCTACTACCTCGTGCAGGATCTCAAGTGTCTCGTCTTCTCCCTCATTGCGCTGCACTTTAAAATCAAGCCGATTTGAACGCTTGTAATCAACCAATCAAGCGCGAAGATTTGCACTAGCACCCTCGTCGAC'"
   ]
  },
  {
   "cell_type": "code",
   "execution_count": 25,
   "metadata": {
    "collapsed": false
   },
   "outputs": [
    {
     "name": "stdout",
     "output_type": "stream",
     "text": [
      "CPU times: user 302 ms, sys: 48.7 ms, total: 351 ms\n",
      "Wall time: 584 ms\n"
     ]
    }
   ],
   "source": [
    "%%time \n",
    "df =  pd.read_csv('pam_sites.csv')"
   ]
  },
  {
   "cell_type": "code",
   "execution_count": 26,
   "metadata": {
    "collapsed": false
   },
   "outputs": [
    {
     "data": {
      "text/html": [
       "<div>\n",
       "<table border=\"1\" class=\"dataframe\">\n",
       "  <thead>\n",
       "    <tr style=\"text-align: right;\">\n",
       "      <th></th>\n",
       "      <th>Contig</th>\n",
       "      <th>Start</th>\n",
       "      <th>End</th>\n",
       "      <th>gRNA_Seq</th>\n",
       "      <th>PAM</th>\n",
       "      <th>Strand</th>\n",
       "      <th>G_start</th>\n",
       "      <th>Unique</th>\n",
       "    </tr>\n",
       "  </thead>\n",
       "  <tbody>\n",
       "    <tr>\n",
       "      <th>0</th>\n",
       "      <td>nHd.2.3.scaf00001</td>\n",
       "      <td>2</td>\n",
       "      <td>21</td>\n",
       "      <td>GGTGACTGTATTCCGGGGGG</td>\n",
       "      <td>AGG</td>\n",
       "      <td>+</td>\n",
       "      <td>True</td>\n",
       "      <td>No</td>\n",
       "    </tr>\n",
       "    <tr>\n",
       "      <th>1</th>\n",
       "      <td>nHd.2.3.scaf00001</td>\n",
       "      <td>2875</td>\n",
       "      <td>2894</td>\n",
       "      <td>GAATGCATTTCGTTGAATGG</td>\n",
       "      <td>AGG</td>\n",
       "      <td>+</td>\n",
       "      <td>True</td>\n",
       "      <td>No</td>\n",
       "    </tr>\n",
       "    <tr>\n",
       "      <th>2</th>\n",
       "      <td>nHd.2.3.scaf00001</td>\n",
       "      <td>3222</td>\n",
       "      <td>3241</td>\n",
       "      <td>GAATGCATTTCGCTGAATGG</td>\n",
       "      <td>AGG</td>\n",
       "      <td>+</td>\n",
       "      <td>True</td>\n",
       "      <td>No</td>\n",
       "    </tr>\n",
       "    <tr>\n",
       "      <th>3</th>\n",
       "      <td>nHd.2.3.scaf00001</td>\n",
       "      <td>3291</td>\n",
       "      <td>3310</td>\n",
       "      <td>GCGGGCATCTCATTGTCGGG</td>\n",
       "      <td>AGG</td>\n",
       "      <td>+</td>\n",
       "      <td>True</td>\n",
       "      <td>Yes</td>\n",
       "    </tr>\n",
       "    <tr>\n",
       "      <th>4</th>\n",
       "      <td>nHd.2.3.scaf00001</td>\n",
       "      <td>3594</td>\n",
       "      <td>3613</td>\n",
       "      <td>GCATGCGCTGTTTCCAACGG</td>\n",
       "      <td>AGG</td>\n",
       "      <td>+</td>\n",
       "      <td>True</td>\n",
       "      <td>No</td>\n",
       "    </tr>\n",
       "  </tbody>\n",
       "</table>\n",
       "</div>"
      ],
      "text/plain": [
       "              Contig  Start   End              gRNA_Seq  PAM Strand G_start  \\\n",
       "0  nHd.2.3.scaf00001      2    21  GGTGACTGTATTCCGGGGGG  AGG      +    True   \n",
       "1  nHd.2.3.scaf00001   2875  2894  GAATGCATTTCGTTGAATGG  AGG      +    True   \n",
       "2  nHd.2.3.scaf00001   3222  3241  GAATGCATTTCGCTGAATGG  AGG      +    True   \n",
       "3  nHd.2.3.scaf00001   3291  3310  GCGGGCATCTCATTGTCGGG  AGG      +    True   \n",
       "4  nHd.2.3.scaf00001   3594  3613  GCATGCGCTGTTTCCAACGG  AGG      +    True   \n",
       "\n",
       "  Unique  \n",
       "0     No  \n",
       "1     No  \n",
       "2     No  \n",
       "3    Yes  \n",
       "4     No  "
      ]
     },
     "execution_count": 26,
     "metadata": {},
     "output_type": "execute_result"
    }
   ],
   "source": [
    "df.head()"
   ]
  },
  {
   "cell_type": "code",
   "execution_count": 27,
   "metadata": {
    "collapsed": false
   },
   "outputs": [
    {
     "data": {
      "text/html": [
       "<div>\n",
       "<table border=\"1\" class=\"dataframe\">\n",
       "  <thead>\n",
       "    <tr style=\"text-align: right;\">\n",
       "      <th></th>\n",
       "      <th>count</th>\n",
       "      <th>mean</th>\n",
       "      <th>std</th>\n",
       "      <th>min</th>\n",
       "      <th>25%</th>\n",
       "      <th>50%</th>\n",
       "      <th>75%</th>\n",
       "      <th>max</th>\n",
       "    </tr>\n",
       "  </thead>\n",
       "  <tbody>\n",
       "    <tr>\n",
       "      <th>Start</th>\n",
       "      <td>239950</td>\n",
       "      <td>38268.9</td>\n",
       "      <td>51313.5</td>\n",
       "      <td>1</td>\n",
       "      <td>6532</td>\n",
       "      <td>20655.5</td>\n",
       "      <td>49273.8</td>\n",
       "      <td>594043</td>\n",
       "    </tr>\n",
       "    <tr>\n",
       "      <th>End</th>\n",
       "      <td>239950</td>\n",
       "      <td>38268.9</td>\n",
       "      <td>51313.5</td>\n",
       "      <td>4</td>\n",
       "      <td>6530</td>\n",
       "      <td>20660.5</td>\n",
       "      <td>49270.8</td>\n",
       "      <td>594024</td>\n",
       "    </tr>\n",
       "    <tr>\n",
       "      <th>G_start</th>\n",
       "      <td>239950</td>\n",
       "      <td>1</td>\n",
       "      <td>0</td>\n",
       "      <td>True</td>\n",
       "      <td>1</td>\n",
       "      <td>1</td>\n",
       "      <td>1</td>\n",
       "      <td>True</td>\n",
       "    </tr>\n",
       "  </tbody>\n",
       "</table>\n",
       "</div>"
      ],
      "text/plain": [
       "          count     mean      std   min   25%      50%      75%     max\n",
       "Start    239950  38268.9  51313.5     1  6532  20655.5  49273.8  594043\n",
       "End      239950  38268.9  51313.5     4  6530  20660.5  49270.8  594024\n",
       "G_start  239950        1        0  True     1        1        1    True"
      ]
     },
     "execution_count": 27,
     "metadata": {},
     "output_type": "execute_result"
    }
   ],
   "source": [
    "df.describe().T"
   ]
  },
  {
   "cell_type": "code",
   "execution_count": 39,
   "metadata": {
    "collapsed": true
   },
   "outputs": [],
   "source": [
    "def pairDNA(x):\n",
    "    if(x=='A'):\n",
    "        return 'T'\n",
    "    elif(x=='T'):\n",
    "        return 'A'\n",
    "    elif(x=='C'):\n",
    "        return 'G'\n",
    "    else:\n",
    "        return 'C'\n",
    "\n",
    "def dnaComp(s):\n",
    "    # Gets complementary strand of DNA\n",
    "    return ''.join(map(lambda b: pairDNA(b), s))"
   ]
  },
  {
   "cell_type": "code",
   "execution_count": 76,
   "metadata": {
    "collapsed": false
   },
   "outputs": [],
   "source": [
    "df['gRNA_Seq_Comp'] = map(lambda x: dnaComp(x), df['gRNA_Seq'])"
   ]
  },
  {
   "cell_type": "code",
   "execution_count": null,
   "metadata": {
    "collapsed": false
   },
   "outputs": [],
   "source": []
  },
  {
   "cell_type": "code",
   "execution_count": 98,
   "metadata": {
    "collapsed": false
   },
   "outputs": [
    {
     "data": {
      "text/html": [
       "<div>\n",
       "<table border=\"1\" class=\"dataframe\">\n",
       "  <thead>\n",
       "    <tr style=\"text-align: right;\">\n",
       "      <th></th>\n",
       "      <th>count</th>\n",
       "      <th>mean</th>\n",
       "      <th>std</th>\n",
       "      <th>min</th>\n",
       "      <th>25%</th>\n",
       "      <th>50%</th>\n",
       "      <th>75%</th>\n",
       "      <th>max</th>\n",
       "    </tr>\n",
       "  </thead>\n",
       "  <tbody>\n",
       "    <tr>\n",
       "      <th>Start</th>\n",
       "      <td>223</td>\n",
       "      <td>50446.3</td>\n",
       "      <td>28581.9</td>\n",
       "      <td>1953</td>\n",
       "      <td>25853</td>\n",
       "      <td>56215</td>\n",
       "      <td>73148</td>\n",
       "      <td>100028</td>\n",
       "    </tr>\n",
       "    <tr>\n",
       "      <th>End</th>\n",
       "      <td>223</td>\n",
       "      <td>50445.6</td>\n",
       "      <td>28583</td>\n",
       "      <td>1934</td>\n",
       "      <td>25853</td>\n",
       "      <td>56234</td>\n",
       "      <td>73129</td>\n",
       "      <td>100047</td>\n",
       "    </tr>\n",
       "    <tr>\n",
       "      <th>G_start</th>\n",
       "      <td>223</td>\n",
       "      <td>1</td>\n",
       "      <td>0</td>\n",
       "      <td>True</td>\n",
       "      <td>1</td>\n",
       "      <td>1</td>\n",
       "      <td>1</td>\n",
       "      <td>True</td>\n",
       "    </tr>\n",
       "  </tbody>\n",
       "</table>\n",
       "</div>"
      ],
      "text/plain": [
       "        count     mean      std   min    25%    50%    75%     max\n",
       "Start     223  50446.3  28581.9  1953  25853  56215  73148  100028\n",
       "End       223  50445.6    28583  1934  25853  56234  73129  100047\n",
       "G_start   223        1        0  True      1      1      1    True"
      ]
     },
     "metadata": {},
     "output_type": "display_data"
    },
    {
     "data": {
      "text/html": [
       "<div>\n",
       "<table border=\"1\" class=\"dataframe\">\n",
       "  <thead>\n",
       "    <tr style=\"text-align: right;\">\n",
       "      <th></th>\n",
       "      <th>count</th>\n",
       "      <th>mean</th>\n",
       "      <th>std</th>\n",
       "      <th>min</th>\n",
       "      <th>25%</th>\n",
       "      <th>50%</th>\n",
       "      <th>75%</th>\n",
       "      <th>max</th>\n",
       "    </tr>\n",
       "  </thead>\n",
       "  <tbody>\n",
       "    <tr>\n",
       "      <th>Start</th>\n",
       "      <td>575</td>\n",
       "      <td>130381</td>\n",
       "      <td>70488.5</td>\n",
       "      <td>593</td>\n",
       "      <td>74255</td>\n",
       "      <td>138397</td>\n",
       "      <td>192537</td>\n",
       "      <td>252622</td>\n",
       "    </tr>\n",
       "    <tr>\n",
       "      <th>End</th>\n",
       "      <td>575</td>\n",
       "      <td>130382</td>\n",
       "      <td>70490.4</td>\n",
       "      <td>574</td>\n",
       "      <td>74255</td>\n",
       "      <td>138416</td>\n",
       "      <td>192518</td>\n",
       "      <td>252603</td>\n",
       "    </tr>\n",
       "    <tr>\n",
       "      <th>G_start</th>\n",
       "      <td>575</td>\n",
       "      <td>1</td>\n",
       "      <td>0</td>\n",
       "      <td>True</td>\n",
       "      <td>1</td>\n",
       "      <td>1</td>\n",
       "      <td>1</td>\n",
       "      <td>True</td>\n",
       "    </tr>\n",
       "  </tbody>\n",
       "</table>\n",
       "</div>"
      ],
      "text/plain": [
       "        count    mean      std   min    25%     50%     75%     max\n",
       "Start     575  130381  70488.5   593  74255  138397  192537  252622\n",
       "End       575  130382  70490.4   574  74255  138416  192518  252603\n",
       "G_start   575       1        0  True      1       1       1    True"
      ]
     },
     "metadata": {},
     "output_type": "display_data"
    }
   ],
   "source": [
    "scaf209_df = df[df.Contig=='nHd.2.3.scaf00209']\n",
    "display(scaf209_df.describe().T)\n",
    "scaf20_df = df[df.Contig=='nHd.2.3.scaf00020']\n",
    "display(scaf20_df.describe().T)"
   ]
  },
  {
   "cell_type": "code",
   "execution_count": 84,
   "metadata": {
    "collapsed": false
   },
   "outputs": [
    {
     "data": {
      "text/html": [
       "<div>\n",
       "<table border=\"1\" class=\"dataframe\">\n",
       "  <thead>\n",
       "    <tr style=\"text-align: right;\">\n",
       "      <th></th>\n",
       "      <th>Contig</th>\n",
       "      <th>Start</th>\n",
       "      <th>End</th>\n",
       "      <th>gRNA_Seq</th>\n",
       "      <th>PAM</th>\n",
       "      <th>Strand</th>\n",
       "      <th>G_start</th>\n",
       "      <th>Unique</th>\n",
       "      <th>gRNA_Seq_Comp</th>\n",
       "    </tr>\n",
       "  </thead>\n",
       "  <tbody>\n",
       "    <tr>\n",
       "      <th>60501</th>\n",
       "      <td>nHd.2.3.scaf00209</td>\n",
       "      <td>44951</td>\n",
       "      <td>44970</td>\n",
       "      <td>GCTTGCTTAGTACCTCCCGG</td>\n",
       "      <td>CGG</td>\n",
       "      <td>+</td>\n",
       "      <td>True</td>\n",
       "      <td>No</td>\n",
       "      <td>CGAACGAATCATGGAGGGCC</td>\n",
       "    </tr>\n",
       "    <tr>\n",
       "      <th>60543</th>\n",
       "      <td>nHd.2.3.scaf00209</td>\n",
       "      <td>79241</td>\n",
       "      <td>79260</td>\n",
       "      <td>GAACAGTGGTGCCAGTAAGG</td>\n",
       "      <td>CGG</td>\n",
       "      <td>+</td>\n",
       "      <td>True</td>\n",
       "      <td>Yes</td>\n",
       "      <td>CTTGTCACCACGGTCATTCC</td>\n",
       "    </tr>\n",
       "    <tr>\n",
       "      <th>60497</th>\n",
       "      <td>nHd.2.3.scaf00209</td>\n",
       "      <td>42928</td>\n",
       "      <td>42947</td>\n",
       "      <td>GTATGAAATTGCCAGAGTGG</td>\n",
       "      <td>CGG</td>\n",
       "      <td>+</td>\n",
       "      <td>True</td>\n",
       "      <td>Yes</td>\n",
       "      <td>CATACTTTAACGGTCTCACC</td>\n",
       "    </tr>\n",
       "    <tr>\n",
       "      <th>60553</th>\n",
       "      <td>nHd.2.3.scaf00209</td>\n",
       "      <td>79470</td>\n",
       "      <td>79489</td>\n",
       "      <td>GGAGGAGGAGGAGGAGTGGG</td>\n",
       "      <td>AGG</td>\n",
       "      <td>+</td>\n",
       "      <td>True</td>\n",
       "      <td>No</td>\n",
       "      <td>CCTCCTCCTCCTCCTCACCC</td>\n",
       "    </tr>\n",
       "    <tr>\n",
       "      <th>60661</th>\n",
       "      <td>nHd.2.3.scaf00209</td>\n",
       "      <td>78941</td>\n",
       "      <td>78922</td>\n",
       "      <td>GGTGGAGGCGAGGAGCTCGG</td>\n",
       "      <td>AGG</td>\n",
       "      <td>-</td>\n",
       "      <td>True</td>\n",
       "      <td>Yes</td>\n",
       "      <td>CCACCTCCGCTCCTCGAGCC</td>\n",
       "    </tr>\n",
       "  </tbody>\n",
       "</table>\n",
       "</div>"
      ],
      "text/plain": [
       "                  Contig  Start    End              gRNA_Seq  PAM Strand  \\\n",
       "60501  nHd.2.3.scaf00209  44951  44970  GCTTGCTTAGTACCTCCCGG  CGG      +   \n",
       "60543  nHd.2.3.scaf00209  79241  79260  GAACAGTGGTGCCAGTAAGG  CGG      +   \n",
       "60497  nHd.2.3.scaf00209  42928  42947  GTATGAAATTGCCAGAGTGG  CGG      +   \n",
       "60553  nHd.2.3.scaf00209  79470  79489  GGAGGAGGAGGAGGAGTGGG  AGG      +   \n",
       "60661  nHd.2.3.scaf00209  78941  78922  GGTGGAGGCGAGGAGCTCGG  AGG      -   \n",
       "\n",
       "      G_start Unique         gRNA_Seq_Comp  \n",
       "60501    True     No  CGAACGAATCATGGAGGGCC  \n",
       "60543    True    Yes  CTTGTCACCACGGTCATTCC  \n",
       "60497    True    Yes  CATACTTTAACGGTCTCACC  \n",
       "60553    True     No  CCTCCTCCTCCTCCTCACCC  \n",
       "60661    True    Yes  CCACCTCCGCTCCTCGAGCC  "
      ]
     },
     "metadata": {},
     "output_type": "display_data"
    },
    {
     "data": {
      "text/html": [
       "<div>\n",
       "<table border=\"1\" class=\"dataframe\">\n",
       "  <thead>\n",
       "    <tr style=\"text-align: right;\">\n",
       "      <th></th>\n",
       "      <th>Contig</th>\n",
       "      <th>Start</th>\n",
       "      <th>End</th>\n",
       "      <th>gRNA_Seq</th>\n",
       "      <th>PAM</th>\n",
       "      <th>Strand</th>\n",
       "      <th>G_start</th>\n",
       "      <th>Unique</th>\n",
       "      <th>gRNA_Seq_Comp</th>\n",
       "    </tr>\n",
       "  </thead>\n",
       "  <tbody>\n",
       "    <tr>\n",
       "      <th>11553</th>\n",
       "      <td>nHd.2.3.scaf00020</td>\n",
       "      <td>138012</td>\n",
       "      <td>137993</td>\n",
       "      <td>GTTCGGTGAGGACGTCGAGG</td>\n",
       "      <td>AGG</td>\n",
       "      <td>-</td>\n",
       "      <td>True</td>\n",
       "      <td>Yes</td>\n",
       "      <td>CAAGCCACTCCTGCAGCTCC</td>\n",
       "    </tr>\n",
       "    <tr>\n",
       "      <th>11144</th>\n",
       "      <td>nHd.2.3.scaf00020</td>\n",
       "      <td>45448</td>\n",
       "      <td>45467</td>\n",
       "      <td>GCATTTCAGGGTGACGCTGG</td>\n",
       "      <td>CGG</td>\n",
       "      <td>+</td>\n",
       "      <td>True</td>\n",
       "      <td>Yes</td>\n",
       "      <td>CGTAAAGTCCCACTGCGACC</td>\n",
       "    </tr>\n",
       "    <tr>\n",
       "      <th>11246</th>\n",
       "      <td>nHd.2.3.scaf00020</td>\n",
       "      <td>143517</td>\n",
       "      <td>143536</td>\n",
       "      <td>GTCATGCGTCCTGCCCCCGG</td>\n",
       "      <td>CGG</td>\n",
       "      <td>+</td>\n",
       "      <td>True</td>\n",
       "      <td>Yes</td>\n",
       "      <td>CAGTACGCAGGACGGGGGCC</td>\n",
       "    </tr>\n",
       "    <tr>\n",
       "      <th>11508</th>\n",
       "      <td>nHd.2.3.scaf00020</td>\n",
       "      <td>92023</td>\n",
       "      <td>92004</td>\n",
       "      <td>GCCCATTATGGATGACCCGG</td>\n",
       "      <td>AGG</td>\n",
       "      <td>-</td>\n",
       "      <td>True</td>\n",
       "      <td>Yes</td>\n",
       "      <td>CGGGTAATACCTACTGGGCC</td>\n",
       "    </tr>\n",
       "    <tr>\n",
       "      <th>11509</th>\n",
       "      <td>nHd.2.3.scaf00020</td>\n",
       "      <td>92554</td>\n",
       "      <td>92535</td>\n",
       "      <td>GCATTACTAAGACGTATGGG</td>\n",
       "      <td>TGG</td>\n",
       "      <td>-</td>\n",
       "      <td>True</td>\n",
       "      <td>No</td>\n",
       "      <td>CGTAATGATTCTGCATACCC</td>\n",
       "    </tr>\n",
       "  </tbody>\n",
       "</table>\n",
       "</div>"
      ],
      "text/plain": [
       "                  Contig   Start     End              gRNA_Seq  PAM Strand  \\\n",
       "11553  nHd.2.3.scaf00020  138012  137993  GTTCGGTGAGGACGTCGAGG  AGG      -   \n",
       "11144  nHd.2.3.scaf00020   45448   45467  GCATTTCAGGGTGACGCTGG  CGG      +   \n",
       "11246  nHd.2.3.scaf00020  143517  143536  GTCATGCGTCCTGCCCCCGG  CGG      +   \n",
       "11508  nHd.2.3.scaf00020   92023   92004  GCCCATTATGGATGACCCGG  AGG      -   \n",
       "11509  nHd.2.3.scaf00020   92554   92535  GCATTACTAAGACGTATGGG  TGG      -   \n",
       "\n",
       "      G_start Unique         gRNA_Seq_Comp  \n",
       "11553    True    Yes  CAAGCCACTCCTGCAGCTCC  \n",
       "11144    True    Yes  CGTAAAGTCCCACTGCGACC  \n",
       "11246    True    Yes  CAGTACGCAGGACGGGGGCC  \n",
       "11508    True    Yes  CGGGTAATACCTACTGGGCC  \n",
       "11509    True     No  CGTAATGATTCTGCATACCC  "
      ]
     },
     "metadata": {},
     "output_type": "display_data"
    }
   ],
   "source": [
    "display(scaf209_df.sample(5))\n",
    "display(scaf20_df.sample(5))"
   ]
  },
  {
   "cell_type": "code",
   "execution_count": 99,
   "metadata": {
    "collapsed": false
   },
   "outputs": [],
   "source": [
    "def matchGRNA(gRNA,gene):\n",
    "    match = re.findall(gRNA,gene)\n",
    "    if(len(match)>0):\n",
    "        return True\n",
    "    else:\n",
    "        return False"
   ]
  },
  {
   "cell_type": "markdown",
   "metadata": {},
   "source": [
    "## Total Matches"
   ]
  },
  {
   "cell_type": "code",
   "execution_count": 104,
   "metadata": {
    "collapsed": false,
    "scrolled": true
   },
   "outputs": [
    {
     "name": "stdout",
     "output_type": "stream",
     "text": [
      "0\n",
      "0\n"
     ]
    }
   ],
   "source": [
    "scaf209_df['Match_gRNA'] = map(lambda x: matchGRNA(x,hdAct1),scaf209_df['gRNA_Seq'])\n",
    "scaf20_df['Match_gRNA'] = map(lambda x: matchGRNA(x,hdMag1),scaf20_df['gRNA_Seq'])\n",
    "\n",
    "print(len(scaf209_df[scaf209_df['Match_gRNA']==True]))\n",
    "print(len(scaf20_df[scaf20_df['Match_gRNA']==True]))"
   ]
  },
  {
   "cell_type": "markdown",
   "metadata": {},
   "source": [
    "## Unique Matches"
   ]
  },
  {
   "cell_type": "code",
   "execution_count": 105,
   "metadata": {
    "collapsed": false
   },
   "outputs": [
    {
     "data": {
      "text/html": [
       "<div>\n",
       "<table border=\"1\" class=\"dataframe\">\n",
       "  <thead>\n",
       "    <tr style=\"text-align: right;\">\n",
       "      <th></th>\n",
       "      <th>count</th>\n",
       "      <th>mean</th>\n",
       "      <th>std</th>\n",
       "      <th>min</th>\n",
       "      <th>25%</th>\n",
       "      <th>50%</th>\n",
       "      <th>75%</th>\n",
       "      <th>max</th>\n",
       "    </tr>\n",
       "  </thead>\n",
       "  <tbody>\n",
       "    <tr>\n",
       "      <th>Start</th>\n",
       "      <td>160</td>\n",
       "      <td>48657.5</td>\n",
       "      <td>28897.3</td>\n",
       "      <td>1953</td>\n",
       "      <td>23643.8</td>\n",
       "      <td>47753.5</td>\n",
       "      <td>73145.5</td>\n",
       "      <td>99529</td>\n",
       "    </tr>\n",
       "    <tr>\n",
       "      <th>End</th>\n",
       "      <td>160</td>\n",
       "      <td>48655.4</td>\n",
       "      <td>28895.9</td>\n",
       "      <td>1934</td>\n",
       "      <td>23624.8</td>\n",
       "      <td>47753.5</td>\n",
       "      <td>73126.5</td>\n",
       "      <td>99510</td>\n",
       "    </tr>\n",
       "    <tr>\n",
       "      <th>G_start</th>\n",
       "      <td>160</td>\n",
       "      <td>1</td>\n",
       "      <td>0</td>\n",
       "      <td>True</td>\n",
       "      <td>1</td>\n",
       "      <td>1</td>\n",
       "      <td>1</td>\n",
       "      <td>True</td>\n",
       "    </tr>\n",
       "  </tbody>\n",
       "</table>\n",
       "</div>"
      ],
      "text/plain": [
       "        count     mean      std   min      25%      50%      75%    max\n",
       "Start     160  48657.5  28897.3  1953  23643.8  47753.5  73145.5  99529\n",
       "End       160  48655.4  28895.9  1934  23624.8  47753.5  73126.5  99510\n",
       "G_start   160        1        0  True        1        1        1   True"
      ]
     },
     "metadata": {},
     "output_type": "display_data"
    },
    {
     "data": {
      "text/html": [
       "<div>\n",
       "<table border=\"1\" class=\"dataframe\">\n",
       "  <thead>\n",
       "    <tr style=\"text-align: right;\">\n",
       "      <th></th>\n",
       "      <th>count</th>\n",
       "      <th>mean</th>\n",
       "      <th>std</th>\n",
       "      <th>min</th>\n",
       "      <th>25%</th>\n",
       "      <th>50%</th>\n",
       "      <th>75%</th>\n",
       "      <th>max</th>\n",
       "    </tr>\n",
       "  </thead>\n",
       "  <tbody>\n",
       "    <tr>\n",
       "      <th>Start</th>\n",
       "      <td>430</td>\n",
       "      <td>124202</td>\n",
       "      <td>69213</td>\n",
       "      <td>593</td>\n",
       "      <td>73514.8</td>\n",
       "      <td>118231</td>\n",
       "      <td>189411</td>\n",
       "      <td>252622</td>\n",
       "    </tr>\n",
       "    <tr>\n",
       "      <th>End</th>\n",
       "      <td>430</td>\n",
       "      <td>124202</td>\n",
       "      <td>69214</td>\n",
       "      <td>574</td>\n",
       "      <td>73495.8</td>\n",
       "      <td>118250</td>\n",
       "      <td>189402</td>\n",
       "      <td>252603</td>\n",
       "    </tr>\n",
       "    <tr>\n",
       "      <th>G_start</th>\n",
       "      <td>430</td>\n",
       "      <td>1</td>\n",
       "      <td>0</td>\n",
       "      <td>True</td>\n",
       "      <td>1</td>\n",
       "      <td>1</td>\n",
       "      <td>1</td>\n",
       "      <td>True</td>\n",
       "    </tr>\n",
       "  </tbody>\n",
       "</table>\n",
       "</div>"
      ],
      "text/plain": [
       "        count    mean    std   min      25%     50%     75%     max\n",
       "Start     430  124202  69213   593  73514.8  118231  189411  252622\n",
       "End       430  124202  69214   574  73495.8  118250  189402  252603\n",
       "G_start   430       1      0  True        1       1       1    True"
      ]
     },
     "metadata": {},
     "output_type": "display_data"
    }
   ],
   "source": [
    "uniq_df = df[df.Unique=='Yes']\n",
    "uniq_df.describe().T\n",
    "\n",
    "uniq_scaf209_df = uniq_df[uniq_df.Contig=='nHd.2.3.scaf00209']\n",
    "display(uniq_scaf209_df.describe().T)\n",
    "uniq_scaf20_df = uniq_df[uniq_df.Contig=='nHd.2.3.scaf00020']\n",
    "display(uniq_scaf20_df.describe().T)"
   ]
  },
  {
   "cell_type": "code",
   "execution_count": 106,
   "metadata": {
    "collapsed": false
   },
   "outputs": [
    {
     "name": "stdout",
     "output_type": "stream",
     "text": [
      "0\n",
      "0\n"
     ]
    }
   ],
   "source": [
    "uniq_scaf209_df['Match_gRNA'] = map(lambda x: matchGRNA(x,hdAct1),uniq_scaf209_df['gRNA_Seq'])\n",
    "uniq_scaf20_df['Match_gRNA'] = map(lambda x: matchGRNA(x,hdMag1),uniq_scaf20_df['gRNA_Seq'])\n",
    "\n",
    "print(len(uniq_scaf209_df[uniq_scaf209_df['Match_gRNA']==True]))\n",
    "print(len(uniq_scaf20_df[uniq_scaf20_df['Match_gRNA']==True]))"
   ]
  },
  {
   "cell_type": "code",
   "execution_count": 108,
   "metadata": {
    "collapsed": false
   },
   "outputs": [
    {
     "name": "stdout",
     "output_type": "stream",
     "text": [
      "0\n",
      "0\n"
     ]
    }
   ],
   "source": [
    "uniq_scaf20_dfscaf209_df['Match_gRNA'] = map(lambda x: matchGRNA(x,hdAct1),uniq_scaf209_df['gRNA_Seq_Comp'])\n",
    "uniq_scaf20_df['Match_gRNA'] = map(lambda x: matchGRNA(x,hdMag1),uniq_scaf20_df['gRNA_Seq_Comp'])\n",
    "\n",
    "print(len(uniq_scaf209_df[uniq_scaf209_df['Match_gRNA']==True]))\n",
    "print(len(uniq_scaf20_df[uniq_scaf20_df['Match_gRNA']==True]))"
   ]
  },
  {
   "cell_type": "code",
   "execution_count": 109,
   "metadata": {
    "collapsed": false
   },
   "outputs": [],
   "source": [
    "# uniq_scaf209_df.to_csv()\n",
    "# uniq_scaf20_df.to_csv()"
   ]
  },
  {
   "cell_type": "code",
   "execution_count": null,
   "metadata": {
    "collapsed": false
   },
   "outputs": [],
   "source": []
  },
  {
   "cell_type": "code",
   "execution_count": null,
   "metadata": {
    "collapsed": true
   },
   "outputs": [],
   "source": []
  }
 ],
 "metadata": {
  "kernelspec": {
   "display_name": "Python 2",
   "language": "python",
   "name": "python2"
  },
  "language_info": {
   "codemirror_mode": {
    "name": "ipython",
    "version": 2
   },
   "file_extension": ".py",
   "mimetype": "text/x-python",
   "name": "python",
   "nbconvert_exporter": "python",
   "pygments_lexer": "ipython2",
   "version": "2.7.11"
  }
 },
 "nbformat": 4,
 "nbformat_minor": 0
}
