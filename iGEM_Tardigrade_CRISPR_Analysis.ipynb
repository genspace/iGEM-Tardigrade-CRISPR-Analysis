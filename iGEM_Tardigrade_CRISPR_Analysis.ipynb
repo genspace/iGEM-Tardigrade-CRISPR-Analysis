{
 "cells": [
  {
   "cell_type": "code",
   "execution_count": 49,
   "metadata": {
    "collapsed": false
   },
   "outputs": [],
   "source": [
    "import re\n",
    "import os\n",
    "import numpy as np\n",
    "import pandas as pd\n",
    "\n",
    "from IPython.display import display\n",
    "import matplotlib.pyplot as plt\n",
    "import matplotlib\n",
    "import seaborn as sns\n",
    "sns.set_context(\"notebook\", font_scale=1)\n",
    "matplotlib.style.use('ggplot')\n",
    "%matplotlib inline \n",
    "\n",
    "import warnings\n",
    "warnings.filterwarnings('ignore')"
   ]
  },
  {
   "cell_type": "code",
   "execution_count": 24,
   "metadata": {
    "collapsed": true
   },
   "outputs": [],
   "source": [
    "hdAct1 = 'AAAAGACATCTTTTCCAAATCAGTCAGTTCCAGCACCGACGCCACCCGGATTCCCCCGTCATCGCATCGCTGTTCGCTATTCATCCCTGCGCTATTTTTCACTTTAGTTTCGCGTAATCCCTCAGAACAGTCGCAATGGAAGACGAAGTTGCCGCCTTGGTCGTGGACAATGGATCCGGTATGTGCAAGGCCGGATTTGCCGGAGATGACGCTCCCCGCGCCGTCTTCCCCTCCATCGTTGGCCGACCCCGTCATCAGGGTGTCATGGTCGGTATGGGTCAAAAGGACAGCTACGTCGGTGATGAGGCCCAGAGCAAGCGCGGTATCCTGACGCTCAAGTACCCCATCGAGCACGGCATCGTCACCAACTGGGATGACATGGAGAAGATCTGGCATCACACCTTCTACAACGAGCTCCGCGTGGCTCCCGAGGAACACCCCGTCCTCCTGACTGAGGCTCCCCTCAACCCCAAGGCCAACAGGGAAAAGATGACCCAGATCATGTTCGAGACATTCAACACCCCCGCCATGTACGTCGCGATTCAGGCTGTGCTCTCCCTGTACGCGTCCGGTCGTACCACCGGTATCGTGCTGGACTCTGGTGATGGTGTCTCCCACACTGTCCCCATCTACGAAGGTTATGCTCTGCCTCACGCCATCCTCCGTCTGGATTTGGCCGGTCGCGACTTGACTGACTACTTGATGAAGATCCTGACTGAGCGCGGTACAGCTTCGTCACAACGCT'\n",
    "hdMag1 = 'CCCATTAGAGGGATTTCATCTATTTCAACTCTTGGGCATTTTCTCTGACGCTTAAATTTTTCCCAGACAATCTCGAAGGAAAACGAAAATGACGGAGGACCGTTTCTACGTGCGATACTACGTCGGCCATAAAGGCAAGTTCGGGCATGAATTTTTGGAATTCGAATTTCGCCCGGACGGTCGCCTGCGTTACGCCAACAATTCCAACTACAAGAACGACACGATGATCCGCAAGGAGGTGGTCGTCCATCCGGCTATCTTGGAAGAGGTGAAGCGCATCATTCAGGACAGTGAGATTCTCCGGGAGAACGACGCCAAGTGGCCGCAGCCGGACCGCGTGGGCCGGCAGGAGTTAGAGATTCTGCTGGACGACGAGCACATCTCCTTCAACACGGGAAAGATCGGCTCGCTGATGGACGTCAACAACAGCCCCGATCCAGAAGGTCTGCGTTGCTTCTACTACCTCGTGCAGGATCTCAAGTGTCTCGTCTTCTCCCTCATTGCGCTGCACTTTAAAATCAAGCCGATTTGAACGCTTGTAATCAACCAATCAAGCGCGAAGATTTGCACTAGCACCCTCGTCGAC'"
   ]
  },
  {
   "cell_type": "code",
   "execution_count": 25,
   "metadata": {
    "collapsed": false
   },
   "outputs": [
    {
     "name": "stdout",
     "output_type": "stream",
     "text": [
      "CPU times: user 302 ms, sys: 48.7 ms, total: 351 ms\n",
      "Wall time: 584 ms\n"
     ]
    }
   ],
   "source": [
    "%%time \n",
    "df =  pd.read_csv('pam_sites.csv')"
   ]
  },
  {
   "cell_type": "code",
   "execution_count": 26,
   "metadata": {
    "collapsed": false
   },
   "outputs": [
    {
     "data": {
      "text/html": [
       "<div>\n",
       "<table border=\"1\" class=\"dataframe\">\n",
       "  <thead>\n",
       "    <tr style=\"text-align: right;\">\n",
       "      <th></th>\n",
       "      <th>Contig</th>\n",
       "      <th>Start</th>\n",
       "      <th>End</th>\n",
       "      <th>gRNA_Seq</th>\n",
       "      <th>PAM</th>\n",
       "      <th>Strand</th>\n",
       "      <th>G_start</th>\n",
       "      <th>Unique</th>\n",
       "    </tr>\n",
       "  </thead>\n",
       "  <tbody>\n",
       "    <tr>\n",
       "      <th>0</th>\n",
       "      <td>nHd.2.3.scaf00001</td>\n",
       "      <td>2</td>\n",
       "      <td>21</td>\n",
       "      <td>GGTGACTGTATTCCGGGGGG</td>\n",
       "      <td>AGG</td>\n",
       "      <td>+</td>\n",
       "      <td>True</td>\n",
       "      <td>No</td>\n",
       "    </tr>\n",
       "    <tr>\n",
       "      <th>1</th>\n",
       "      <td>nHd.2.3.scaf00001</td>\n",
       "      <td>2875</td>\n",
       "      <td>2894</td>\n",
       "      <td>GAATGCATTTCGTTGAATGG</td>\n",
       "      <td>AGG</td>\n",
       "      <td>+</td>\n",
       "      <td>True</td>\n",
       "      <td>No</td>\n",
       "    </tr>\n",
       "    <tr>\n",
       "      <th>2</th>\n",
       "      <td>nHd.2.3.scaf00001</td>\n",
       "      <td>3222</td>\n",
       "      <td>3241</td>\n",
       "      <td>GAATGCATTTCGCTGAATGG</td>\n",
       "      <td>AGG</td>\n",
       "      <td>+</td>\n",
       "      <td>True</td>\n",
       "      <td>No</td>\n",
       "    </tr>\n",
       "    <tr>\n",
       "      <th>3</th>\n",
       "      <td>nHd.2.3.scaf00001</td>\n",
       "      <td>3291</td>\n",
       "      <td>3310</td>\n",
       "      <td>GCGGGCATCTCATTGTCGGG</td>\n",
       "      <td>AGG</td>\n",
       "      <td>+</td>\n",
       "      <td>True</td>\n",
       "      <td>Yes</td>\n",
       "    </tr>\n",
       "    <tr>\n",
       "      <th>4</th>\n",
       "      <td>nHd.2.3.scaf00001</td>\n",
       "      <td>3594</td>\n",
       "      <td>3613</td>\n",
       "      <td>GCATGCGCTGTTTCCAACGG</td>\n",
       "      <td>AGG</td>\n",
       "      <td>+</td>\n",
       "      <td>True</td>\n",
       "      <td>No</td>\n",
       "    </tr>\n",
       "  </tbody>\n",
       "</table>\n",
       "</div>"
      ],
      "text/plain": [
       "              Contig  Start   End              gRNA_Seq  PAM Strand G_start  \\\n",
       "0  nHd.2.3.scaf00001      2    21  GGTGACTGTATTCCGGGGGG  AGG      +    True   \n",
       "1  nHd.2.3.scaf00001   2875  2894  GAATGCATTTCGTTGAATGG  AGG      +    True   \n",
       "2  nHd.2.3.scaf00001   3222  3241  GAATGCATTTCGCTGAATGG  AGG      +    True   \n",
       "3  nHd.2.3.scaf00001   3291  3310  GCGGGCATCTCATTGTCGGG  AGG      +    True   \n",
       "4  nHd.2.3.scaf00001   3594  3613  GCATGCGCTGTTTCCAACGG  AGG      +    True   \n",
       "\n",
       "  Unique  \n",
       "0     No  \n",
       "1     No  \n",
       "2     No  \n",
       "3    Yes  \n",
       "4     No  "
      ]
     },
     "execution_count": 26,
     "metadata": {},
     "output_type": "execute_result"
    }
   ],
   "source": [
    "df.head()"
   ]
  },
  {
   "cell_type": "code",
   "execution_count": 27,
   "metadata": {
    "collapsed": false
   },
   "outputs": [
    {
     "data": {
      "text/html": [
       "<div>\n",
       "<table border=\"1\" class=\"dataframe\">\n",
       "  <thead>\n",
       "    <tr style=\"text-align: right;\">\n",
       "      <th></th>\n",
       "      <th>count</th>\n",
       "      <th>mean</th>\n",
       "      <th>std</th>\n",
       "      <th>min</th>\n",
       "      <th>25%</th>\n",
       "      <th>50%</th>\n",
       "      <th>75%</th>\n",
       "      <th>max</th>\n",
       "    </tr>\n",
       "  </thead>\n",
       "  <tbody>\n",
       "    <tr>\n",
       "      <th>Start</th>\n",
       "      <td>239950</td>\n",
       "      <td>38268.9</td>\n",
       "      <td>51313.5</td>\n",
       "      <td>1</td>\n",
       "      <td>6532</td>\n",
       "      <td>20655.5</td>\n",
       "      <td>49273.8</td>\n",
       "      <td>594043</td>\n",
       "    </tr>\n",
       "    <tr>\n",
       "      <th>End</th>\n",
       "      <td>239950</td>\n",
       "      <td>38268.9</td>\n",
       "      <td>51313.5</td>\n",
       "      <td>4</td>\n",
       "      <td>6530</td>\n",
       "      <td>20660.5</td>\n",
       "      <td>49270.8</td>\n",
       "      <td>594024</td>\n",
       "    </tr>\n",
       "    <tr>\n",
       "      <th>G_start</th>\n",
       "      <td>239950</td>\n",
       "      <td>1</td>\n",
       "      <td>0</td>\n",
       "      <td>True</td>\n",
       "      <td>1</td>\n",
       "      <td>1</td>\n",
       "      <td>1</td>\n",
       "      <td>True</td>\n",
       "    </tr>\n",
       "  </tbody>\n",
       "</table>\n",
       "</div>"
      ],
      "text/plain": [
       "          count     mean      std   min   25%      50%      75%     max\n",
       "Start    239950  38268.9  51313.5     1  6532  20655.5  49273.8  594043\n",
       "End      239950  38268.9  51313.5     4  6530  20660.5  49270.8  594024\n",
       "G_start  239950        1        0  True     1        1        1    True"
      ]
     },
     "execution_count": 27,
     "metadata": {},
     "output_type": "execute_result"
    }
   ],
   "source": [
    "df.describe().T"
   ]
  },
  {
   "cell_type": "code",
   "execution_count": 28,
   "metadata": {
    "collapsed": false
   },
   "outputs": [
    {
     "data": {
      "text/html": [
       "<div>\n",
       "<table border=\"1\" class=\"dataframe\">\n",
       "  <thead>\n",
       "    <tr style=\"text-align: right;\">\n",
       "      <th></th>\n",
       "      <th>count</th>\n",
       "      <th>mean</th>\n",
       "      <th>std</th>\n",
       "      <th>min</th>\n",
       "      <th>25%</th>\n",
       "      <th>50%</th>\n",
       "      <th>75%</th>\n",
       "      <th>max</th>\n",
       "    </tr>\n",
       "  </thead>\n",
       "  <tbody>\n",
       "    <tr>\n",
       "      <th>Start</th>\n",
       "      <td>155748</td>\n",
       "      <td>40498.1</td>\n",
       "      <td>53579</td>\n",
       "      <td>1</td>\n",
       "      <td>7306</td>\n",
       "      <td>22306.5</td>\n",
       "      <td>52519</td>\n",
       "      <td>593404</td>\n",
       "    </tr>\n",
       "    <tr>\n",
       "      <th>End</th>\n",
       "      <td>155748</td>\n",
       "      <td>40498.2</td>\n",
       "      <td>53579</td>\n",
       "      <td>4</td>\n",
       "      <td>7305</td>\n",
       "      <td>22304.5</td>\n",
       "      <td>52517.8</td>\n",
       "      <td>593385</td>\n",
       "    </tr>\n",
       "    <tr>\n",
       "      <th>G_start</th>\n",
       "      <td>155748</td>\n",
       "      <td>1</td>\n",
       "      <td>0</td>\n",
       "      <td>True</td>\n",
       "      <td>1</td>\n",
       "      <td>1</td>\n",
       "      <td>1</td>\n",
       "      <td>True</td>\n",
       "    </tr>\n",
       "  </tbody>\n",
       "</table>\n",
       "</div>"
      ],
      "text/plain": [
       "          count     mean    std   min   25%      50%      75%     max\n",
       "Start    155748  40498.1  53579     1  7306  22306.5    52519  593404\n",
       "End      155748  40498.2  53579     4  7305  22304.5  52517.8  593385\n",
       "G_start  155748        1      0  True     1        1        1    True"
      ]
     },
     "execution_count": 28,
     "metadata": {},
     "output_type": "execute_result"
    }
   ],
   "source": [
    "uniq_df = df[df.Unique=='Yes']\n",
    "uniq_df.describe().T"
   ]
  },
  {
   "cell_type": "code",
   "execution_count": 39,
   "metadata": {
    "collapsed": true
   },
   "outputs": [],
   "source": [
    "def pairDNA(x):\n",
    "    if(x=='A'):\n",
    "        return 'T'\n",
    "    elif(x=='T'):\n",
    "        return 'A'\n",
    "    elif(x=='C'):\n",
    "        return 'G'\n",
    "    else:\n",
    "        return 'C'\n",
    "\n",
    "def dnaComp(s):\n",
    "    # Gets complementary strand of DNA\n",
    "    return ''.join(map(lambda b: pairDNA(b), s))"
   ]
  },
  {
   "cell_type": "code",
   "execution_count": 42,
   "metadata": {
    "collapsed": false
   },
   "outputs": [],
   "source": [
    "uniq_df['gRNA_Seq_Comp'] = map(lambda x: dnaComp(x), uniq_df['gRNA_Seq'])"
   ]
  },
  {
   "cell_type": "code",
   "execution_count": 56,
   "metadata": {
    "collapsed": false
   },
   "outputs": [
    {
     "data": {
      "text/html": [
       "<div>\n",
       "<table border=\"1\" class=\"dataframe\">\n",
       "  <thead>\n",
       "    <tr style=\"text-align: right;\">\n",
       "      <th></th>\n",
       "      <th>count</th>\n",
       "      <th>mean</th>\n",
       "      <th>std</th>\n",
       "      <th>min</th>\n",
       "      <th>25%</th>\n",
       "      <th>50%</th>\n",
       "      <th>75%</th>\n",
       "      <th>max</th>\n",
       "    </tr>\n",
       "  </thead>\n",
       "  <tbody>\n",
       "    <tr>\n",
       "      <th>Start</th>\n",
       "      <td>160</td>\n",
       "      <td>48657.5</td>\n",
       "      <td>28897.3</td>\n",
       "      <td>1953</td>\n",
       "      <td>23643.8</td>\n",
       "      <td>47753.5</td>\n",
       "      <td>73145.5</td>\n",
       "      <td>99529</td>\n",
       "    </tr>\n",
       "    <tr>\n",
       "      <th>End</th>\n",
       "      <td>160</td>\n",
       "      <td>48655.4</td>\n",
       "      <td>28895.9</td>\n",
       "      <td>1934</td>\n",
       "      <td>23624.8</td>\n",
       "      <td>47753.5</td>\n",
       "      <td>73126.5</td>\n",
       "      <td>99510</td>\n",
       "    </tr>\n",
       "    <tr>\n",
       "      <th>G_start</th>\n",
       "      <td>160</td>\n",
       "      <td>1</td>\n",
       "      <td>0</td>\n",
       "      <td>True</td>\n",
       "      <td>1</td>\n",
       "      <td>1</td>\n",
       "      <td>1</td>\n",
       "      <td>True</td>\n",
       "    </tr>\n",
       "  </tbody>\n",
       "</table>\n",
       "</div>"
      ],
      "text/plain": [
       "        count     mean      std   min      25%      50%      75%    max\n",
       "Start     160  48657.5  28897.3  1953  23643.8  47753.5  73145.5  99529\n",
       "End       160  48655.4  28895.9  1934  23624.8  47753.5  73126.5  99510\n",
       "G_start   160        1        0  True        1        1        1   True"
      ]
     },
     "metadata": {},
     "output_type": "display_data"
    },
    {
     "data": {
      "text/html": [
       "<div>\n",
       "<table border=\"1\" class=\"dataframe\">\n",
       "  <thead>\n",
       "    <tr style=\"text-align: right;\">\n",
       "      <th></th>\n",
       "      <th>count</th>\n",
       "      <th>mean</th>\n",
       "      <th>std</th>\n",
       "      <th>min</th>\n",
       "      <th>25%</th>\n",
       "      <th>50%</th>\n",
       "      <th>75%</th>\n",
       "      <th>max</th>\n",
       "    </tr>\n",
       "  </thead>\n",
       "  <tbody>\n",
       "    <tr>\n",
       "      <th>Start</th>\n",
       "      <td>160</td>\n",
       "      <td>48657.5</td>\n",
       "      <td>28897.3</td>\n",
       "      <td>1953</td>\n",
       "      <td>23643.8</td>\n",
       "      <td>47753.5</td>\n",
       "      <td>73145.5</td>\n",
       "      <td>99529</td>\n",
       "    </tr>\n",
       "    <tr>\n",
       "      <th>End</th>\n",
       "      <td>160</td>\n",
       "      <td>48655.4</td>\n",
       "      <td>28895.9</td>\n",
       "      <td>1934</td>\n",
       "      <td>23624.8</td>\n",
       "      <td>47753.5</td>\n",
       "      <td>73126.5</td>\n",
       "      <td>99510</td>\n",
       "    </tr>\n",
       "    <tr>\n",
       "      <th>G_start</th>\n",
       "      <td>160</td>\n",
       "      <td>1</td>\n",
       "      <td>0</td>\n",
       "      <td>True</td>\n",
       "      <td>1</td>\n",
       "      <td>1</td>\n",
       "      <td>1</td>\n",
       "      <td>True</td>\n",
       "    </tr>\n",
       "  </tbody>\n",
       "</table>\n",
       "</div>"
      ],
      "text/plain": [
       "        count     mean      std   min      25%      50%      75%    max\n",
       "Start     160  48657.5  28897.3  1953  23643.8  47753.5  73145.5  99529\n",
       "End       160  48655.4  28895.9  1934  23624.8  47753.5  73126.5  99510\n",
       "G_start   160        1        0  True        1        1        1   True"
      ]
     },
     "metadata": {},
     "output_type": "display_data"
    }
   ],
   "source": [
    "scaf209_df = uniq_df[uniq_df.Contig=='nHd.2.3.scaf00209']\n",
    "display(scaf209_df.describe().T)\n",
    "scaf20_df = uniq_df[uniq_df.Contig=='nHd.2.3.scaf00020']\n",
    "display(scaf209_df.describe().T)"
   ]
  },
  {
   "cell_type": "code",
   "execution_count": 58,
   "metadata": {
    "collapsed": false
   },
   "outputs": [
    {
     "data": {
      "text/html": [
       "<div>\n",
       "<table border=\"1\" class=\"dataframe\">\n",
       "  <thead>\n",
       "    <tr style=\"text-align: right;\">\n",
       "      <th></th>\n",
       "      <th>Contig</th>\n",
       "      <th>Start</th>\n",
       "      <th>End</th>\n",
       "      <th>gRNA_Seq</th>\n",
       "      <th>PAM</th>\n",
       "      <th>Strand</th>\n",
       "      <th>G_start</th>\n",
       "      <th>Unique</th>\n",
       "      <th>gRNA_Seq_Comp</th>\n",
       "    </tr>\n",
       "  </thead>\n",
       "  <tbody>\n",
       "    <tr>\n",
       "      <th>60471</th>\n",
       "      <td>nHd.2.3.scaf00209</td>\n",
       "      <td>16017</td>\n",
       "      <td>16036</td>\n",
       "      <td>GGGCATCAACGGCAAAGTGG</td>\n",
       "      <td>TGG</td>\n",
       "      <td>+</td>\n",
       "      <td>True</td>\n",
       "      <td>Yes</td>\n",
       "      <td>CCCGTAGTTGCCGTTTCACC</td>\n",
       "    </tr>\n",
       "    <tr>\n",
       "      <th>60630</th>\n",
       "      <td>nHd.2.3.scaf00209</td>\n",
       "      <td>60397</td>\n",
       "      <td>60378</td>\n",
       "      <td>GAATTTGAGGCATGTTATGG</td>\n",
       "      <td>AGG</td>\n",
       "      <td>-</td>\n",
       "      <td>True</td>\n",
       "      <td>Yes</td>\n",
       "      <td>CTTAAACTCCGTACAATACC</td>\n",
       "    </tr>\n",
       "    <tr>\n",
       "      <th>60670</th>\n",
       "      <td>nHd.2.3.scaf00209</td>\n",
       "      <td>88847</td>\n",
       "      <td>88828</td>\n",
       "      <td>GGTGAAGAGGGTCACTCCGG</td>\n",
       "      <td>GGG</td>\n",
       "      <td>-</td>\n",
       "      <td>True</td>\n",
       "      <td>Yes</td>\n",
       "      <td>CCACTTCTCCCAGTGAGGCC</td>\n",
       "    </tr>\n",
       "    <tr>\n",
       "      <th>60469</th>\n",
       "      <td>nHd.2.3.scaf00209</td>\n",
       "      <td>12700</td>\n",
       "      <td>12719</td>\n",
       "      <td>GCGCCCGATACTCCCGTCGG</td>\n",
       "      <td>CGG</td>\n",
       "      <td>+</td>\n",
       "      <td>True</td>\n",
       "      <td>Yes</td>\n",
       "      <td>CGCGGGCTATGAGGGCAGCC</td>\n",
       "    </tr>\n",
       "    <tr>\n",
       "      <th>60627</th>\n",
       "      <td>nHd.2.3.scaf00209</td>\n",
       "      <td>54919</td>\n",
       "      <td>54900</td>\n",
       "      <td>GCAATCCACATATTGTTTGG</td>\n",
       "      <td>AGG</td>\n",
       "      <td>-</td>\n",
       "      <td>True</td>\n",
       "      <td>Yes</td>\n",
       "      <td>CGTTAGGTGTATAACAAACC</td>\n",
       "    </tr>\n",
       "  </tbody>\n",
       "</table>\n",
       "</div>"
      ],
      "text/plain": [
       "                  Contig  Start    End              gRNA_Seq  PAM Strand  \\\n",
       "60471  nHd.2.3.scaf00209  16017  16036  GGGCATCAACGGCAAAGTGG  TGG      +   \n",
       "60630  nHd.2.3.scaf00209  60397  60378  GAATTTGAGGCATGTTATGG  AGG      -   \n",
       "60670  nHd.2.3.scaf00209  88847  88828  GGTGAAGAGGGTCACTCCGG  GGG      -   \n",
       "60469  nHd.2.3.scaf00209  12700  12719  GCGCCCGATACTCCCGTCGG  CGG      +   \n",
       "60627  nHd.2.3.scaf00209  54919  54900  GCAATCCACATATTGTTTGG  AGG      -   \n",
       "\n",
       "      G_start Unique         gRNA_Seq_Comp  \n",
       "60471    True    Yes  CCCGTAGTTGCCGTTTCACC  \n",
       "60630    True    Yes  CTTAAACTCCGTACAATACC  \n",
       "60670    True    Yes  CCACTTCTCCCAGTGAGGCC  \n",
       "60469    True    Yes  CGCGGGCTATGAGGGCAGCC  \n",
       "60627    True    Yes  CGTTAGGTGTATAACAAACC  "
      ]
     },
     "metadata": {},
     "output_type": "display_data"
    },
    {
     "data": {
      "text/html": [
       "<div>\n",
       "<table border=\"1\" class=\"dataframe\">\n",
       "  <thead>\n",
       "    <tr style=\"text-align: right;\">\n",
       "      <th></th>\n",
       "      <th>Contig</th>\n",
       "      <th>Start</th>\n",
       "      <th>End</th>\n",
       "      <th>gRNA_Seq</th>\n",
       "      <th>PAM</th>\n",
       "      <th>Strand</th>\n",
       "      <th>G_start</th>\n",
       "      <th>Unique</th>\n",
       "      <th>gRNA_Seq_Comp</th>\n",
       "    </tr>\n",
       "  </thead>\n",
       "  <tbody>\n",
       "    <tr>\n",
       "      <th>11240</th>\n",
       "      <td>nHd.2.3.scaf00020</td>\n",
       "      <td>138397</td>\n",
       "      <td>138416</td>\n",
       "      <td>GAAGGAGTGAAATTGGGGGG</td>\n",
       "      <td>AGG</td>\n",
       "      <td>+</td>\n",
       "      <td>True</td>\n",
       "      <td>Yes</td>\n",
       "      <td>CTTCCTCACTTTAACCCCCC</td>\n",
       "    </tr>\n",
       "    <tr>\n",
       "      <th>11482</th>\n",
       "      <td>nHd.2.3.scaf00020</td>\n",
       "      <td>73577</td>\n",
       "      <td>73558</td>\n",
       "      <td>GTATCCGGAGCCATCCGTGG</td>\n",
       "      <td>TGG</td>\n",
       "      <td>-</td>\n",
       "      <td>True</td>\n",
       "      <td>Yes</td>\n",
       "      <td>CATAGGCCTCGGTAGGCACC</td>\n",
       "    </tr>\n",
       "    <tr>\n",
       "      <th>11555</th>\n",
       "      <td>nHd.2.3.scaf00020</td>\n",
       "      <td>140389</td>\n",
       "      <td>140370</td>\n",
       "      <td>GGCCATTCTGTTGGCCTGGG</td>\n",
       "      <td>AGG</td>\n",
       "      <td>-</td>\n",
       "      <td>True</td>\n",
       "      <td>Yes</td>\n",
       "      <td>CCGGTAAGACAACCGGACCC</td>\n",
       "    </tr>\n",
       "    <tr>\n",
       "      <th>11239</th>\n",
       "      <td>nHd.2.3.scaf00020</td>\n",
       "      <td>138147</td>\n",
       "      <td>138166</td>\n",
       "      <td>GACGTGCACCAGAGTGCGGG</td>\n",
       "      <td>TGG</td>\n",
       "      <td>+</td>\n",
       "      <td>True</td>\n",
       "      <td>Yes</td>\n",
       "      <td>CTGCACGTGGTCTCACGCCC</td>\n",
       "    </tr>\n",
       "    <tr>\n",
       "      <th>11610</th>\n",
       "      <td>nHd.2.3.scaf00020</td>\n",
       "      <td>192658</td>\n",
       "      <td>192639</td>\n",
       "      <td>GCGTGGTGGCGCGCTGCTGG</td>\n",
       "      <td>TGG</td>\n",
       "      <td>-</td>\n",
       "      <td>True</td>\n",
       "      <td>Yes</td>\n",
       "      <td>CGCACCACCGCGCGACGACC</td>\n",
       "    </tr>\n",
       "  </tbody>\n",
       "</table>\n",
       "</div>"
      ],
      "text/plain": [
       "                  Contig   Start     End              gRNA_Seq  PAM Strand  \\\n",
       "11240  nHd.2.3.scaf00020  138397  138416  GAAGGAGTGAAATTGGGGGG  AGG      +   \n",
       "11482  nHd.2.3.scaf00020   73577   73558  GTATCCGGAGCCATCCGTGG  TGG      -   \n",
       "11555  nHd.2.3.scaf00020  140389  140370  GGCCATTCTGTTGGCCTGGG  AGG      -   \n",
       "11239  nHd.2.3.scaf00020  138147  138166  GACGTGCACCAGAGTGCGGG  TGG      +   \n",
       "11610  nHd.2.3.scaf00020  192658  192639  GCGTGGTGGCGCGCTGCTGG  TGG      -   \n",
       "\n",
       "      G_start Unique         gRNA_Seq_Comp  \n",
       "11240    True    Yes  CTTCCTCACTTTAACCCCCC  \n",
       "11482    True    Yes  CATAGGCCTCGGTAGGCACC  \n",
       "11555    True    Yes  CCGGTAAGACAACCGGACCC  \n",
       "11239    True    Yes  CTGCACGTGGTCTCACGCCC  \n",
       "11610    True    Yes  CGCACCACCGCGCGACGACC  "
      ]
     },
     "metadata": {},
     "output_type": "display_data"
    }
   ],
   "source": [
    "display(scaf209_df.sample(5))\n",
    "display(scaf20_df.sample(5))"
   ]
  },
  {
   "cell_type": "code",
   "execution_count": 52,
   "metadata": {
    "collapsed": false
   },
   "outputs": [],
   "source": [
    "def matchGRNA(gRNA,gene):\n",
    "    match = re.findall(gRNA,gene)\n",
    "    if(len(match)>0):\n",
    "        return True\n",
    "    else:\n",
    "        return False"
   ]
  },
  {
   "cell_type": "markdown",
   "metadata": {},
   "source": [
    "## Matches"
   ]
  },
  {
   "cell_type": "code",
   "execution_count": null,
   "metadata": {
    "collapsed": false
   },
   "outputs": [],
   "source": [
    "scaf209_df['Match_gRNA'] = map(lambda x: matchGRNA(x,hdAct1),scaf209_df['gRNA_Seq'])\n",
    "scaf20_df['Match_gRNA'] = map(lambda x: matchGRNA(x,hdMag1),scaf20_df['gRNA_Seq'])\n",
    "\n",
    "print(len(scaf209_df[scaf209_df['Match_gRNA']==True]))\n",
    "print(len(scaf20_df[scaf20_df['Match_gRNA']==True]))"
   ]
  },
  {
   "cell_type": "code",
   "execution_count": 65,
   "metadata": {
    "collapsed": false
   },
   "outputs": [
    {
     "name": "stdout",
     "output_type": "stream",
     "text": [
      "0\n",
      "0\n"
     ]
    }
   ],
   "source": [
    "scaf209_df['Match_gRNA'] = map(lambda x: matchGRNA(x,hdAct1),scaf209_df['gRNA_Seq_Comp'])\n",
    "scaf20_df['Match_gRNA'] = map(lambda x: matchGRNA(x,hdMag1),scaf20_df['gRNA_Seq_Comp'])\n",
    "\n",
    "print(len(scaf209_df[scaf209_df['Match_gRNA']==True]))\n",
    "print(len(scaf20_df[scaf20_df['Match_gRNA']==True]))"
   ]
  },
  {
   "cell_type": "code",
   "execution_count": null,
   "metadata": {
    "collapsed": true
   },
   "outputs": [],
   "source": []
  }
 ],
 "metadata": {
  "kernelspec": {
   "display_name": "Python 2",
   "language": "python",
   "name": "python2"
  },
  "language_info": {
   "codemirror_mode": {
    "name": "ipython",
    "version": 2
   },
   "file_extension": ".py",
   "mimetype": "text/x-python",
   "name": "python",
   "nbconvert_exporter": "python",
   "pygments_lexer": "ipython2",
   "version": "2.7.11"
  }
 },
 "nbformat": 4,
 "nbformat_minor": 0
}
